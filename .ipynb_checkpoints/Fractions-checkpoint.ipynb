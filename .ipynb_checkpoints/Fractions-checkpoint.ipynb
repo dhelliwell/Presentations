{
 "cells": [
  {
   "cell_type": "markdown",
   "metadata": {},
   "source": [
    "# Fractions\n",
    "\n",
    "## $\\frac{3}{7} \\leftarrow \\frac{Numerator}{Denominator}$\n",
    "- Which number is the numerator?\n",
    "- Which number is the denominator?"
   ]
  },
  {
   "cell_type": "markdown",
   "metadata": {},
   "source": [
    "\n",
    "# Equivalent Fractions\n",
    "\n",
    "Are these fractions equal?\n",
    "## $ \\left(\\frac{1}{4} \\stackrel{?}{=} \\frac{25}{100}\\right) $"
   ]
  },
  {
   "cell_type": "markdown",
   "metadata": {},
   "source": [
    "# Ways to say Fractions\n",
    "- What are different ways to say $\\frac{3}{4}$?\n",
    "- What are different ways to say $(=)$?\n",
    "- What are different ways to say $\\frac{75}{100}$?\n",
    "\n",
    "Using the answers from the above two questions come up with some different ways to say the following math sentence?\n",
    "\n",
    "## $\\frac{3}{4} = \\frac{75}{100}$"
   ]
  },
  {
   "cell_type": "markdown",
   "metadata": {},
   "source": [
    "# One as a Fraction\n",
    "\n",
    "What does this mean?\n",
    "\n",
    "## $ \\frac{75}{75} $\n",
    "\n",
    "Are these equal **(thumbs up / thumbs down)**?\n",
    "\n",
    "## $ \\frac{1}{1} \\stackrel{?}{=} \\frac{4}{4} \\stackrel{?}{=}\\frac{25}{25} \\stackrel{?}{=}\\frac{75}{75} \\stackrel{?}{=} \\frac{100}{100}$\n",
    "\n",
    "Tell me what the rule is here?"
   ]
  },
  {
   "cell_type": "markdown",
   "metadata": {},
   "source": [
    "# Multiplying Fractions\n",
    "\n",
    "## $ \\frac{1}{2} \\times \\frac{3}{2} = \\frac{3}{4} $\n",
    "\n",
    "- Why does the top equal 3?\n",
    "- Why does the botton equal 4?\n",
    "- What kind fraction is $\\frac{3}{2}$?\n",
    "- **Bonus:** Tell me some other ways to write $\\frac{3}{2}$.\n",
    "\n",
    "\n",
    "- **What is the rule for multiplying fractions?**"
   ]
  },
  {
   "cell_type": "markdown",
   "metadata": {},
   "source": [
    "# Putting it all together\n",
    "\n",
    "Caculate answers to the following:\n",
    "\n",
    "## 1. $\\frac{1}{1} \\times \\frac{4}{4} =$ \n",
    "## 2. $\\frac{5}{5} \\times \\frac{5}{5} =$\n",
    "## 3. $\\frac{3}{4} \\times \\frac{25}{25} =$\n",
    "## 4. $\\frac{1}{2} \\times \\frac{5}{5} = $\n",
    "\n",
    "\n",
    "## **Bonus:** Write $\\frac{1}{4}$ in five different ways."
   ]
  }
 ],
 "metadata": {
  "kernelspec": {
   "display_name": "Python [conda env:py35]",
   "language": "python",
   "name": "conda-env-py35-py"
  },
  "language_info": {
   "codemirror_mode": {
    "name": "ipython",
    "version": 3
   },
   "file_extension": ".py",
   "mimetype": "text/x-python",
   "name": "python",
   "nbconvert_exporter": "python",
   "pygments_lexer": "ipython3",
   "version": "3.5.2"
  }
 },
 "nbformat": 4,
 "nbformat_minor": 2
}
